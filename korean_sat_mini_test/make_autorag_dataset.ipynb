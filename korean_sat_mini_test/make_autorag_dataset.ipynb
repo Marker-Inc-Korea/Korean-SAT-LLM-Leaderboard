{
 "cells": [
  {
   "metadata": {
    "ExecuteTime": {
     "end_time": "2024-10-18T08:05:00.932331Z",
     "start_time": "2024-10-18T08:05:00.927036Z"
    }
   },
   "cell_type": "code",
   "source": [
    "from typing import List\n",
    "\n",
    "def make_query(query: str, choices: List[str]) -> str:\n",
    "    return f\"\"\"질문 :\n",
    "{query}\n",
    "    \n",
    "선택지 :\n",
    "1번 - {choices[0]}\n",
    "2번 - {choices[1]}\n",
    "3번 - {choices[2]}\n",
    "4번 - {choices[3]}\n",
    "5번 - {choices[4]}\n",
    "\"\"\""
   ],
   "id": "4517b8f172ff2688",
   "outputs": [],
   "execution_count": 14
  },
  {
   "metadata": {
    "ExecuteTime": {
     "end_time": "2024-10-18T08:05:01.054992Z",
     "start_time": "2024-10-18T08:05:01.051295Z"
    }
   },
   "cell_type": "code",
   "source": [
    "def make_query_with_bogi(query: str, choices: List[str], bogi: str) -> str:\n",
    "    return f\"\"\"질문 :\n",
    "{query}\n",
    "    \n",
    "선택지 :\n",
    "1번 - {choices[0]}\n",
    "2번 - {choices[1]}\n",
    "3번 - {choices[2]}\n",
    "4번 - {choices[3]}\n",
    "5번 - {choices[4]}\n",
    "\n",
    "<보기>\n",
    "{bogi}\n",
    "\"\"\""
   ],
   "id": "3a2cdd120265d8f",
   "outputs": [],
   "execution_count": 15
  },
  {
   "cell_type": "code",
   "id": "initial_id",
   "metadata": {
    "collapsed": true,
    "ExecuteTime": {
     "end_time": "2024-10-18T08:05:01.174268Z",
     "start_time": "2024-10-18T08:05:01.172156Z"
    }
   },
   "source": [
    "from datetime import datetime\n",
    "import os\n",
    "import json\n",
    "import pandas as pd\n",
    "\n",
    "def parse_json_file(json_path: str):\n",
    "    with open(json_path, 'r') as f:\n",
    "        data = json.load(f)\n",
    "    \n",
    "    filename = os.path.basename(json_path).split(\".\")[0]\n",
    "    corpus_dict = {\n",
    "        \"doc_id\": [],\n",
    "        \"contents\": [],\n",
    "        \"metadata\": [],\n",
    "    }\n",
    "    qa_dict = {\n",
    "        \"qid\": [],\n",
    "        \"query\": [],\n",
    "        \"retrieval_gt\": [],\n",
    "        \"generation_gt\": [],\n",
    "        \"retrieved_contents\": [],\n",
    "        \"retrieved_ids\": [],\n",
    "        \"retrieve_scores\": [],\n",
    "    }\n",
    "    for doc in data:\n",
    "        # add to corpus\n",
    "        corpus_dict[\"doc_id\"].append(f'{filename}_{doc[\"id\"]}')\n",
    "        corpus_dict[\"contents\"].append(doc[\"paragraph\"])\n",
    "        corpus_dict[\"metadata\"].append({\n",
    "            \"last_modified_datetime\": datetime.now(),\n",
    "        })\n",
    "        \n",
    "        # add to qa\n",
    "        for i, problem in enumerate(doc[\"problems\"]):\n",
    "            qa_dict[\"qid\"].append(f'{filename}_{doc[\"id\"]}_{i}')\n",
    "            if \"question_plus\" in list(problem.keys()):\n",
    "                qa_dict[\"query\"].append(make_query_with_bogi(problem[\"question\"], problem[\"choices\"], problem[\"question_plus\"]))\n",
    "            else:\n",
    "                qa_dict[\"query\"].append(make_query(problem[\"question\"], problem[\"choices\"]))\n",
    "                \n",
    "            qa_dict[\"retrieval_gt\"].append(\n",
    "                [[f'{filename}_{doc[\"id\"]}']]\n",
    "            )\n",
    "            qa_dict[\"generation_gt\"].append(\n",
    "                [f'{problem[\"answer\"]}({problem[\"score\"]})']\n",
    "            )\n",
    "            qa_dict[\"retrieved_contents\"].append([doc[\"paragraph\"]])\n",
    "            qa_dict[\"retrieved_ids\"].append([f'{filename}_{doc[\"id\"]}'])\n",
    "            qa_dict[\"retrieve_scores\"].append([1.0])\n",
    "            \n",
    "    return pd.DataFrame(corpus_dict), pd.DataFrame(qa_dict)"
   ],
   "outputs": [],
   "execution_count": 16
  },
  {
   "metadata": {
    "ExecuteTime": {
     "end_time": "2024-10-18T08:05:01.325181Z",
     "start_time": "2024-10-18T08:05:01.319411Z"
    }
   },
   "cell_type": "code",
   "source": [
    "corpus_df_2023, qa_df_2023 = parse_json_file(\"./data/2023_11_KICE.json\")"
   ],
   "id": "8747146e33649444",
   "outputs": [],
   "execution_count": 17
  },
  {
   "metadata": {
    "ExecuteTime": {
     "end_time": "2024-10-18T08:05:01.497885Z",
     "start_time": "2024-10-18T08:05:01.490635Z"
    }
   },
   "cell_type": "code",
   "source": [
    "corpus_df_2023.to_parquet(\"./data/autorag/corpus_2023.parquet\", index=False)\n",
    "qa_df_2023.to_parquet(\"./data/autorag/qa_2023.parquet\", index=False)"
   ],
   "id": "eedbd51c00a9ecbc",
   "outputs": [],
   "execution_count": 18
  },
  {
   "metadata": {
    "ExecuteTime": {
     "end_time": "2024-10-18T08:05:01.810209Z",
     "start_time": "2024-10-18T08:05:01.803588Z"
    }
   },
   "cell_type": "code",
   "source": [
    "from glob import glob\n",
    "\n",
    "final_corpus_df = pd.DataFrame() \n",
    "final_qa_df = pd.DataFrame()\n",
    "for i, json_path in enumerate(glob(\"./data/*.json\")):\n",
    "    if i == 0:\n",
    "        final_corpus_df, final_qa_df = parse_json_file(json_path)\n",
    "    else:\n",
    "        corpus_df, qa_df = parse_json_file(json_path)\n",
    "        final_corpus_df = pd.concat([final_corpus_df, corpus_df], ignore_index=True)\n",
    "        final_qa_df = pd.concat([final_qa_df, qa_df], ignore_index=True)"
   ],
   "id": "466f68c713d83804",
   "outputs": [],
   "execution_count": 19
  },
  {
   "metadata": {
    "ExecuteTime": {
     "end_time": "2024-10-18T08:05:02.149767Z",
     "start_time": "2024-10-18T08:05:02.145586Z"
    }
   },
   "cell_type": "code",
   "source": [
    "len(final_corpus_df), len(final_qa_df)"
   ],
   "id": "cca37b56e57402b8",
   "outputs": [
    {
     "data": {
      "text/plain": "(11, 45)"
     },
     "execution_count": 20,
     "metadata": {},
     "output_type": "execute_result"
    }
   ],
   "execution_count": 20
  },
  {
   "metadata": {
    "ExecuteTime": {
     "end_time": "2024-10-18T08:05:02.681859Z",
     "start_time": "2024-10-18T08:05:02.676139Z"
    }
   },
   "cell_type": "code",
   "source": [
    "final_corpus_df.to_parquet(\"./data/autorag/corpus.parquet\", index=False)\n",
    "final_qa_df.to_parquet(\"./data/autorag/qa.parquet\", index=False)"
   ],
   "id": "31a36cd2f025bff3",
   "outputs": [],
   "execution_count": 21
  }
 ],
 "metadata": {
  "kernelspec": {
   "display_name": "Python 3",
   "language": "python",
   "name": "python3"
  },
  "language_info": {
   "codemirror_mode": {
    "name": "ipython",
    "version": 2
   },
   "file_extension": ".py",
   "mimetype": "text/x-python",
   "name": "python",
   "nbconvert_exporter": "python",
   "pygments_lexer": "ipython2",
   "version": "2.7.6"
  }
 },
 "nbformat": 4,
 "nbformat_minor": 5
}
